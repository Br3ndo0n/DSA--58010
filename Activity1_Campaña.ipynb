{
  "nbformat": 4,
  "nbformat_minor": 0,
  "metadata": {
    "colab": {
      "name": "Activity1_Campaña.ipynb",
      "provenance": [],
      "authorship_tag": "ABX9TyPy/Gl+uQwoacXqEIx4bF5J",
      "include_colab_link": true
    },
    "kernelspec": {
      "name": "python3",
      "display_name": "Python 3"
    },
    "language_info": {
      "name": "python"
    }
  },
  "cells": [
    {
      "cell_type": "markdown",
      "metadata": {
        "id": "view-in-github",
        "colab_type": "text"
      },
      "source": [
        "<a href=\"https://colab.research.google.com/github/Bren-Campana/DSA--58010/blob/main/Activity1_Campa%C3%B1a.ipynb\" target=\"_parent\"><img src=\"https://colab.research.google.com/assets/colab-badge.svg\" alt=\"Open In Colab\"/></a>"
      ]
    },
    {
      "cell_type": "markdown",
      "source": [
        "Finding Area of the circle given a Diameter"
      ],
      "metadata": {
        "id": "Ry-dHFuhiFFL"
      }
    },
    {
      "cell_type": "code",
      "execution_count": null,
      "metadata": {
        "id": "BA-w_0HHiB_P"
      },
      "outputs": [],
      "source": [
        "import math\n",
        "PI = 3.14\n",
        "diameter = float(input(\"Please enter the diameter of the circle: \"))\n",
        "radius = diameter/2\n",
        "area = PI * radius * radius\n",
        "\n",
        "print(\"Area of the circle is %.2f\" %area)"
      ]
    }
  ]
}
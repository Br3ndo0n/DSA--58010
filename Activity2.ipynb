{
  "nbformat": 4,
  "nbformat_minor": 0,
  "metadata": {
    "colab": {
      "provenance": [],
      "authorship_tag": "ABX9TyPgOtENCRkDHer4tSyfoo07",
      "include_colab_link": true
    },
    "kernelspec": {
      "name": "python3",
      "display_name": "Python 3"
    },
    "language_info": {
      "name": "python"
    }
  },
  "cells": [
    {
      "cell_type": "markdown",
      "metadata": {
        "id": "view-in-github",
        "colab_type": "text"
      },
      "source": [
        "<a href=\"https://colab.research.google.com/github/Bren-Campana/DSA--58010/blob/main/Activity2.ipynb\" target=\"_parent\"><img src=\"https://colab.research.google.com/assets/colab-badge.svg\" alt=\"Open In Colab\"/></a>"
      ]
    },
    {
      "cell_type": "code",
      "execution_count": 5,
      "metadata": {
        "colab": {
          "base_uri": "https://localhost:8080/"
        },
        "id": "xa0MKSAuNsFy",
        "outputId": "8a1cb573-08e0-408b-fec7-2af81dac3e34"
      },
      "outputs": [
        {
          "output_type": "stream",
          "name": "stdout",
          "text": [
            "[1, 2, 3, 5, 7, 11, 13, 17, 19]\n",
            "Head:  1\n",
            "Tail:  19\n"
          ]
        }
      ],
      "source": [
        "PrimeNumbers = [1,2,3,5,7,11,13,17,19]\n",
        "\n",
        "head = PrimeNumbers[0]\n",
        "tail = PrimeNumbers[8]\n",
        "\n",
        "print(PrimeNumbers)\n",
        "print('Head: ', head)\n",
        "print('Tail: ', tail)"
      ]
    }
  ]
}
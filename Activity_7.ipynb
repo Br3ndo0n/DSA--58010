{
  "nbformat": 4,
  "nbformat_minor": 0,
  "metadata": {
    "colab": {
      "provenance": [],
      "authorship_tag": "ABX9TyO9wKvv0ESVN+lgQknn+2qv",
      "include_colab_link": true
    },
    "kernelspec": {
      "name": "python3",
      "display_name": "Python 3"
    },
    "language_info": {
      "name": "python"
    }
  },
  "cells": [
    {
      "cell_type": "markdown",
      "metadata": {
        "id": "view-in-github",
        "colab_type": "text"
      },
      "source": [
        "<a href=\"https://colab.research.google.com/github/Bren-Campana/DSA--58010/blob/main/Activity_7.ipynb\" target=\"_parent\"><img src=\"https://colab.research.google.com/assets/colab-badge.svg\" alt=\"Open In Colab\"/></a>"
      ]
    },
    {
      "cell_type": "code",
      "execution_count": 2,
      "metadata": {
        "colab": {
          "base_uri": "https://localhost:8080/"
        },
        "id": "3RnGGrkFQw4C",
        "outputId": "2b0080b1-f81c-4930-aefc-c82ba4855988"
      },
      "outputs": [
        {
          "output_type": "stream",
          "name": "stdout",
          "text": [
            "[('e', 'k'), ('e', 'i'), ('e', 'j'), ('e', 'm'), ('f', 'j'), ('f', 'k'), ('f', 'p'), ('h', 'i'), ('h', 'j'), ('h', 'k'), ('i', 'f')]\n"
          ]
        }
      ],
      "source": [
        "from collections import defaultdict\n",
        "\n",
        "graph = defaultdict(list)\n",
        "\n",
        "def connect(graph,v,e):\n",
        "    graph[v].append(e)\n",
        "\n",
        "def generate_edges(graph):\n",
        "    edges = []\n",
        "    for node in graph:\n",
        "        for neighbour in graph[node]:\n",
        "            edges.append((node, neighbour))\n",
        "    return edges\n",
        "\n",
        "connect(graph,'e','k')\n",
        "connect(graph,'e','i')\n",
        "connect(graph,'e','j')\n",
        "connect(graph,'e','m')\n",
        "connect(graph,'f','j')\n",
        "connect(graph,'f','k')\n",
        "connect(graph,'f','p')\n",
        "connect(graph,'h','i')\n",
        "connect(graph,'h','j')\n",
        "connect(graph,'h','k')\n",
        "connect(graph,'i','f')\n",
        "\n",
        "print(generate_edges(graph))"
      ]
    }
  ]
}
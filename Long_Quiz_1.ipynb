{
  "nbformat": 4,
  "nbformat_minor": 0,
  "metadata": {
    "colab": {
      "provenance": [],
      "authorship_tag": "ABX9TyPaY2ihC8Iv028L9Klvo3i8",
      "include_colab_link": true
    },
    "kernelspec": {
      "name": "python3",
      "display_name": "Python 3"
    },
    "language_info": {
      "name": "python"
    }
  },
  "cells": [
    {
      "cell_type": "markdown",
      "metadata": {
        "id": "view-in-github",
        "colab_type": "text"
      },
      "source": [
        "<a href=\"https://colab.research.google.com/github/Bren-Campana/DSA--58010/blob/main/Long_Quiz_1.ipynb\" target=\"_parent\"><img src=\"https://colab.research.google.com/assets/colab-badge.svg\" alt=\"Open In Colab\"/></a>"
      ]
    },
    {
      "cell_type": "markdown",
      "source": [
        "Choose either Array or Linked-List data structure. \n",
        "Create a python program that appends each character of your full name and displays each character in reverse order."
      ],
      "metadata": {
        "id": "9lLZSJORP38F"
      }
    },
    {
      "cell_type": "code",
      "source": [
        "names = ['Brendon', 'Gio', 'Campana']\n",
        "names.append('Campana')\n",
        "names.append('Gio')\n",
        "names.append('Brendon')\n",
        "print(names)"
      ],
      "metadata": {
        "colab": {
          "base_uri": "https://localhost:8080/"
        },
        "id": "LMpRDqOWWLVg",
        "outputId": "f2bc56c0-d3ce-41e1-d107-d40004b771de"
      },
      "execution_count": 13,
      "outputs": [
        {
          "output_type": "stream",
          "name": "stdout",
          "text": [
            "['Brendon', 'Gio', 'Campana', 'Campana', 'Gio', 'Brendon']\n"
          ]
        }
      ]
    }
  ]
}
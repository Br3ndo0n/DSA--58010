{
  "nbformat": 4,
  "nbformat_minor": 0,
  "metadata": {
    "colab": {
      "name": "Practice Problem.ipynb",
      "provenance": [],
      "authorship_tag": "ABX9TyM8Wun+SaSQXl8NvOxgNRKO",
      "include_colab_link": true
    },
    "kernelspec": {
      "name": "python3",
      "display_name": "Python 3"
    },
    "language_info": {
      "name": "python"
    }
  },
  "cells": [
    {
      "cell_type": "markdown",
      "metadata": {
        "id": "view-in-github",
        "colab_type": "text"
      },
      "source": [
        "<a href=\"https://colab.research.google.com/github/Bren-Campana/DSA--58010/blob/main/Practice_Problem.ipynb\" target=\"_parent\"><img src=\"https://colab.research.google.com/assets/colab-badge.svg\" alt=\"Open In Colab\"/></a>"
      ]
    },
    {
      "cell_type": "markdown",
      "source": [
        "Practice Problem"
      ],
      "metadata": {
        "id": "PbxC4_kq0fVO"
      }
    },
    {
      "cell_type": "code",
      "execution_count": null,
      "metadata": {
        "id": "oou2YMtq0dYo"
      },
      "outputs": [],
      "source": [
        "numbers = [26,49,98,87,62,75]\n",
        "\n",
        "for a in numbers:\n",
        "    if a == 237:\n",
        "        print(a)\n",
        "        break;\n",
        "    elif a % 2 == 0:\n",
        "        print(a)"
      ]
    }
  ]
}
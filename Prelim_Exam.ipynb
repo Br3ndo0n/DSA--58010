{
  "nbformat": 4,
  "nbformat_minor": 0,
  "metadata": {
    "colab": {
      "provenance": [],
      "authorship_tag": "ABX9TyMBL1nE2Fr5mnJnAlh3SdPj",
      "include_colab_link": true
    },
    "kernelspec": {
      "name": "python3",
      "display_name": "Python 3"
    },
    "language_info": {
      "name": "python"
    }
  },
  "cells": [
    {
      "cell_type": "markdown",
      "metadata": {
        "id": "view-in-github",
        "colab_type": "text"
      },
      "source": [
        "<a href=\"https://colab.research.google.com/github/Bren-Campana/DSA--58010/blob/main/Prelim_Exam.ipynb\" target=\"_parent\"><img src=\"https://colab.research.google.com/assets/colab-badge.svg\" alt=\"Open In Colab\"/></a>"
      ]
    },
    {
      "cell_type": "markdown",
      "source": [
        "Create a python program that creates the array list below and counts the no. of even numbers A = [1,2,3,4,5,6,7,8,9,10]"
      ],
      "metadata": {
        "id": "pOH2mF9NSPyW"
      }
    },
    {
      "cell_type": "code",
      "execution_count": 11,
      "metadata": {
        "colab": {
          "base_uri": "https://localhost:8080/"
        },
        "id": "KjhQFuvHRhHP",
        "outputId": "3fc11351-ad5f-4c69-8d1f-e6185b872529"
      },
      "outputs": [
        {
          "output_type": "stream",
          "name": "stdout",
          "text": [
            "[1, 2, 3, 4, 5, 6, 7, 8, 9, 10]\n",
            "[2, 4, 6, 8, 10]\n"
          ]
        }
      ],
      "source": [
        "#Choose Array Data Structure \n",
        "#Create a python program that creates the array list below and counts the no. of even numbers A = [1,2,3,4,5,6,7,8,9,10]\n",
        "#Save your program as \"Prelim Exam\" to your Github\n",
        "#Send the link address of Github to the Prelim Exam Folder(BlackBoard)\n",
        "\n",
        "number = [1,2,3,4,5,6,7,8,9,10]\n",
        "print(number)\n",
        "\n",
        "even=[2,4,6,8,10]\n",
        "print(even)"
      ]
    }
  ]
}
{
  "nbformat": 4,
  "nbformat_minor": 0,
  "metadata": {
    "colab": {
      "provenance": [],
      "authorship_tag": "ABX9TyP0zG9Xe6s7BQTMst0lNm2l",
      "include_colab_link": true
    },
    "kernelspec": {
      "name": "python3",
      "display_name": "Python 3"
    },
    "language_info": {
      "name": "python"
    }
  },
  "cells": [
    {
      "cell_type": "markdown",
      "metadata": {
        "id": "view-in-github",
        "colab_type": "text"
      },
      "source": [
        "<a href=\"https://colab.research.google.com/github/Bren-Campana/DSA--58010/blob/main/Stacks%26Queues.ipynb\" target=\"_parent\"><img src=\"https://colab.research.google.com/assets/colab-badge.svg\" alt=\"Open In Colab\"/></a>"
      ]
    },
    {
      "cell_type": "code",
      "source": [
        "class Stack:\n",
        "   def __init__(self):\n",
        "      self.stack = []\n",
        "\n",
        "   def add(self, dataval):\n",
        "# Use list append method to add element\n",
        "      if dataval not in self.stack:\n",
        "         self.stack.append(dataval)\n",
        "         return True\n",
        "      else:\n",
        "         return False\n",
        "  #def printList(self):\n",
        "\n",
        "# Use list pop method to remove element\n",
        "   def remove(self):\n",
        "      if len(self.stack) <= 0:\n",
        "         return (\"No element in the Stack\")\n",
        "      else:\n",
        "         return self.stack.pop()\n",
        "\n",
        "\n",
        "\n",
        "AStack = []\n",
        "#to append/push all the elements in Stack\n",
        "AStack.append(\"Mon\")\n",
        "AStack.append(\"Tue\")\n",
        "AStack.append(\"Wed\")\n",
        "AStack.append(\"Thu\")\n",
        "print(\"The list of elements in the stack are: \")\n",
        "print(AStack)\n",
        "#to remove each elemen/pop()\n",
        "print(AStack.pop())\n",
        "print(AStack.pop())\n",
        "print(\"\\n After popping Thursday, the new elements in the stack are: \")\n",
        "print(AStack)\n",
        "\n",
        "#AStack.add(\"Mon\")\n",
        "#AStack.add(\"Tue\")\n",
        "#AStack.add(\"Wed\")\n",
        "#AStack.add(\"Thu\")\n",
        "#print(AStack.remove())\n",
        "#print(AStack.remove())\n",
        "#print(AStack.remove())\n",
        "#print(AStack)"
      ],
      "metadata": {
        "colab": {
          "base_uri": "https://localhost:8080/"
        },
        "id": "lkVUyyIfG9Q8",
        "outputId": "862f765e-21e8-44ae-de7c-d5fd510ee2cc"
      },
      "execution_count": 37,
      "outputs": [
        {
          "output_type": "stream",
          "name": "stdout",
          "text": [
            "The list of elements in the stack are: \n",
            "['Mon', 'Tue', 'Wed', 'Thu']\n",
            "Thu\n",
            "Wed\n",
            "\n",
            " After popping Thursday, the new elements in the stack are: \n",
            "['Mon', 'Tue']\n"
          ]
        }
      ]
    },
    {
      "cell_type": "code",
      "source": [
        "#Python program to demo stack using Linked List\n",
        "\n",
        "class Stack:\n",
        "  def __init__(self):\n",
        "    self.stack = []\n",
        "class Node:\n",
        "  def __init__(self,data):\n",
        "    self.data = data\n",
        "    self.next = None   #initialize as null\n",
        "class LinkedList:\n",
        "  def __init__(self):\n",
        "    self.head = None  #initialize head as null\n",
        "  def printList(self):\n",
        "    temp = self.head\n",
        "    while(temp):\n",
        "      print(temp.data)\n",
        "      temp = temp.next\n",
        "  def is_empty(self):\n",
        "    if self.head == None:\n",
        "      return True\n",
        "    else:\n",
        "      return False\n",
        "\n",
        "  def pop(self):\n",
        "    if self.is_empty():\n",
        "      return None\n",
        "    else:\n",
        "      poppednode = fourth\n",
        "      return poppednode.data\n",
        "\n",
        "llist = LinkedList()\n",
        "llist.head = Node('Mon')\n",
        "second = Node(\"Tue\")\n",
        "third = Node('Wed')\n",
        "fourth = Node(\"Thu\")\n",
        "\n",
        "llist.head.next = second\n",
        "second.next = third\n",
        "third.next = fourth\n",
        "\n",
        "llist.printList()\n",
        "llist.pop()\n",
        "\n"
      ],
      "metadata": {
        "colab": {
          "base_uri": "https://localhost:8080/",
          "height": 105
        },
        "id": "yFtw9BxUMCiq",
        "outputId": "c11f0fa0-e52d-494a-aada-41ddef1290f4"
      },
      "execution_count": 41,
      "outputs": [
        {
          "output_type": "stream",
          "name": "stdout",
          "text": [
            "Mon\n",
            "Tue\n",
            "Wed\n",
            "Thu\n"
          ]
        },
        {
          "output_type": "execute_result",
          "data": {
            "text/plain": [
              "'Thu'"
            ],
            "application/vnd.google.colaboratory.intrinsic+json": {
              "type": "string"
            }
          },
          "metadata": {},
          "execution_count": 41
        }
      ]
    }
  ]
}
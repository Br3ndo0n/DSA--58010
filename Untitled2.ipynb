{
  "nbformat": 4,
  "nbformat_minor": 0,
  "metadata": {
    "colab": {
      "name": "Untitled2.ipynb",
      "provenance": [],
      "authorship_tag": "ABX9TyO/XiJx9acOISoSrTxfJYLM",
      "include_colab_link": true
    },
    "kernelspec": {
      "name": "python3",
      "display_name": "Python 3"
    },
    "language_info": {
      "name": "python"
    }
  },
  "cells": [
    {
      "cell_type": "markdown",
      "metadata": {
        "id": "view-in-github",
        "colab_type": "text"
      },
      "source": [
        "<a href=\"https://colab.research.google.com/github/Br3ndo0n/DSA--58010/blob/main/Untitled2.ipynb\" target=\"_parent\"><img src=\"https://colab.research.google.com/assets/colab-badge.svg\" alt=\"Open In Colab\"/></a>"
      ]
    },
    {
      "cell_type": "code",
      "execution_count": 4,
      "metadata": {
        "colab": {
          "base_uri": "https://localhost:8080/"
        },
        "id": "81hlof02K5NY",
        "outputId": "35d96975-7b93-468e-995d-d132e19e3d4d"
      },
      "outputs": [
        {
          "output_type": "stream",
          "name": "stdout",
          "text": [
            "16\n",
            "21\n",
            "16\n",
            "20\n"
          ]
        }
      ],
      "source": [
        "class Shape:\n",
        "    def Area(self):\n",
        "        pass\n",
        "    def Perimeter(self):\n",
        "        pass\n",
        "class Rectangle:\n",
        "    def __init__(self,side1,side2):\n",
        "            self.side1 = side1\n",
        "            self.side2 = side2\n",
        "    def Area(self):\n",
        "            print(self.side1*self.side2)\n",
        "    def Perimeter(self):\n",
        "            print(2*(self.side1+self.side2))\n",
        "\n",
        "class Square(Shape):\n",
        "    def __init__(self,side):\n",
        "                self.side = side\n",
        "    def Area(self):\n",
        "                print(self.side**2)\n",
        "    def Perimeter (self):\n",
        "                print(self.side*4)\n",
        "square = Square(4)\n",
        "square.Area()\n",
        "\n",
        "rect= Rectangle(7,3)\n",
        "rect.Area()\n",
        "\n",
        "square.Perimeter()\n",
        "rect.Perimeter()"
      ]
    }
  ]
}